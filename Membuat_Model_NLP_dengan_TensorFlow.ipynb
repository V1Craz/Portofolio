{
  "nbformat": 4,
  "nbformat_minor": 0,
  "metadata": {
    "colab": {
      "name": "Submission_1_Evi_Novitasari.ipynb",
      "provenance": []
    },
    "kernelspec": {
      "name": "python3",
      "display_name": "Python 3"
    }
  },
  "cells": [
    {
      "cell_type": "code",
      "metadata": {
        "colab": {
          "base_uri": "https://localhost:8080/"
        },
        "id": "ClDSCZdUOo6B",
        "outputId": "5e0462f5-f9cd-4a88-b859-661087982c68"
      },
      "source": [
        "from google.colab import drive\r\n",
        "drive.mount(\"/content/gdrive\")"
      ],
      "execution_count": 1,
      "outputs": [
        {
          "output_type": "stream",
          "text": [
            "Mounted at /content/gdrive\n"
          ],
          "name": "stdout"
        }
      ]
    },
    {
      "cell_type": "code",
      "metadata": {
        "id": "b7MTjZGg9UHM"
      },
      "source": [
        "import re\r\n",
        "import nltk\r\n",
        "nltk.download('stopwords')\r\n",
        "import pandas as pd\r\n",
        "import tqdm\r\n",
        "from nltk.corpus import stopwords\r\n",
        "\r\n",
        "import tensorflow as tf\r\n",
        "from tensorflow.keras.preprocessing.text import Tokenizer\r\n",
        "from tensorflow.keras.preprocessing.sequence import pad_sequences\r\n",
        "from tensorflow.keras import layers, Sequential\r\n",
        "from tensorflow.keras.optimizers import Adam\r\n",
        "\r\n",
        "\r\n",
        "import seaborn as sns\r\n",
        "import matplotlib.pyplot as plt\r\n",
        "from sklearn.model_selection import train_test_split\r\n",
        "from sklearn.feature_extraction.text import TfidfVectorizer\r\n",
        "from sklearn.metrics import accuracy_score\r\n",
        "from sklearn.metrics import confusion_matrix"
      ],
      "execution_count": null,
      "outputs": []
    },
    {
      "cell_type": "markdown",
      "metadata": {
        "id": "6WbqrFok_9dW"
      },
      "source": [
        "Load Data"
      ]
    },
    {
      "cell_type": "code",
      "metadata": {
        "id": "W5eXsgiwAcNF"
      },
      "source": [
        "train_df = pd.read_csv(r'gdrive/My Drive/Corona/Corona_NLP_train.csv', encoding='latin_1')\r\n",
        "test_df = pd.read_csv(r'gdrive/My Drive/Corona/Corona_NLP_test.csv', encoding='latin_1')"
      ],
      "execution_count": 5,
      "outputs": []
    },
    {
      "cell_type": "code",
      "metadata": {
        "colab": {
          "base_uri": "https://localhost:8080/",
          "height": 197
        },
        "id": "XwwPXQBeDsPP",
        "outputId": "5722f1fb-1d0f-43a0-b871-fb13fef3e84c"
      },
      "source": [
        "train_df.head()"
      ],
      "execution_count": 6,
      "outputs": [
        {
          "output_type": "execute_result",
          "data": {
            "text/html": [
              "<div>\n",
              "<style scoped>\n",
              "    .dataframe tbody tr th:only-of-type {\n",
              "        vertical-align: middle;\n",
              "    }\n",
              "\n",
              "    .dataframe tbody tr th {\n",
              "        vertical-align: top;\n",
              "    }\n",
              "\n",
              "    .dataframe thead th {\n",
              "        text-align: right;\n",
              "    }\n",
              "</style>\n",
              "<table border=\"1\" class=\"dataframe\">\n",
              "  <thead>\n",
              "    <tr style=\"text-align: right;\">\n",
              "      <th></th>\n",
              "      <th>UserName</th>\n",
              "      <th>ScreenName</th>\n",
              "      <th>Location</th>\n",
              "      <th>TweetAt</th>\n",
              "      <th>OriginalTweet</th>\n",
              "      <th>Sentiment</th>\n",
              "    </tr>\n",
              "  </thead>\n",
              "  <tbody>\n",
              "    <tr>\n",
              "      <th>0</th>\n",
              "      <td>3799</td>\n",
              "      <td>48751</td>\n",
              "      <td>London</td>\n",
              "      <td>16-03-2020</td>\n",
              "      <td>@MeNyrbie @Phil_Gahan @Chrisitv https://t.co/i...</td>\n",
              "      <td>Neutral</td>\n",
              "    </tr>\n",
              "    <tr>\n",
              "      <th>1</th>\n",
              "      <td>3800</td>\n",
              "      <td>48752</td>\n",
              "      <td>UK</td>\n",
              "      <td>16-03-2020</td>\n",
              "      <td>advice Talk to your neighbours family to excha...</td>\n",
              "      <td>Positive</td>\n",
              "    </tr>\n",
              "    <tr>\n",
              "      <th>2</th>\n",
              "      <td>3801</td>\n",
              "      <td>48753</td>\n",
              "      <td>Vagabonds</td>\n",
              "      <td>16-03-2020</td>\n",
              "      <td>Coronavirus Australia: Woolworths to give elde...</td>\n",
              "      <td>Positive</td>\n",
              "    </tr>\n",
              "    <tr>\n",
              "      <th>3</th>\n",
              "      <td>3802</td>\n",
              "      <td>48754</td>\n",
              "      <td>NaN</td>\n",
              "      <td>16-03-2020</td>\n",
              "      <td>My food stock is not the only one which is emp...</td>\n",
              "      <td>Positive</td>\n",
              "    </tr>\n",
              "    <tr>\n",
              "      <th>4</th>\n",
              "      <td>3803</td>\n",
              "      <td>48755</td>\n",
              "      <td>NaN</td>\n",
              "      <td>16-03-2020</td>\n",
              "      <td>Me, ready to go at supermarket during the #COV...</td>\n",
              "      <td>Extremely Negative</td>\n",
              "    </tr>\n",
              "  </tbody>\n",
              "</table>\n",
              "</div>"
            ],
            "text/plain": [
              "   UserName  ...           Sentiment\n",
              "0      3799  ...             Neutral\n",
              "1      3800  ...            Positive\n",
              "2      3801  ...            Positive\n",
              "3      3802  ...            Positive\n",
              "4      3803  ...  Extremely Negative\n",
              "\n",
              "[5 rows x 6 columns]"
            ]
          },
          "metadata": {
            "tags": []
          },
          "execution_count": 6
        }
      ]
    },
    {
      "cell_type": "code",
      "metadata": {
        "colab": {
          "base_uri": "https://localhost:8080/"
        },
        "id": "bG5rSqSiDxJQ",
        "outputId": "d620def0-0302-482d-837f-e906eb2ee642"
      },
      "source": [
        "train_df.isnull().sum()"
      ],
      "execution_count": 7,
      "outputs": [
        {
          "output_type": "execute_result",
          "data": {
            "text/plain": [
              "UserName            0\n",
              "ScreenName          0\n",
              "Location         8590\n",
              "TweetAt             0\n",
              "OriginalTweet       0\n",
              "Sentiment           0\n",
              "dtype: int64"
            ]
          },
          "metadata": {
            "tags": []
          },
          "execution_count": 7
        }
      ]
    },
    {
      "cell_type": "code",
      "metadata": {
        "colab": {
          "base_uri": "https://localhost:8080/",
          "height": 197
        },
        "id": "n0sSx-teD103",
        "outputId": "d220bf77-a68f-499f-a45c-77819996a8c9"
      },
      "source": [
        "test_df.head()"
      ],
      "execution_count": 8,
      "outputs": [
        {
          "output_type": "execute_result",
          "data": {
            "text/html": [
              "<div>\n",
              "<style scoped>\n",
              "    .dataframe tbody tr th:only-of-type {\n",
              "        vertical-align: middle;\n",
              "    }\n",
              "\n",
              "    .dataframe tbody tr th {\n",
              "        vertical-align: top;\n",
              "    }\n",
              "\n",
              "    .dataframe thead th {\n",
              "        text-align: right;\n",
              "    }\n",
              "</style>\n",
              "<table border=\"1\" class=\"dataframe\">\n",
              "  <thead>\n",
              "    <tr style=\"text-align: right;\">\n",
              "      <th></th>\n",
              "      <th>UserName</th>\n",
              "      <th>ScreenName</th>\n",
              "      <th>Location</th>\n",
              "      <th>TweetAt</th>\n",
              "      <th>OriginalTweet</th>\n",
              "      <th>Sentiment</th>\n",
              "    </tr>\n",
              "  </thead>\n",
              "  <tbody>\n",
              "    <tr>\n",
              "      <th>0</th>\n",
              "      <td>1</td>\n",
              "      <td>44953</td>\n",
              "      <td>NYC</td>\n",
              "      <td>02-03-2020</td>\n",
              "      <td>TRENDING: New Yorkers encounter empty supermar...</td>\n",
              "      <td>Extremely Negative</td>\n",
              "    </tr>\n",
              "    <tr>\n",
              "      <th>1</th>\n",
              "      <td>2</td>\n",
              "      <td>44954</td>\n",
              "      <td>Seattle, WA</td>\n",
              "      <td>02-03-2020</td>\n",
              "      <td>When I couldn't find hand sanitizer at Fred Me...</td>\n",
              "      <td>Positive</td>\n",
              "    </tr>\n",
              "    <tr>\n",
              "      <th>2</th>\n",
              "      <td>3</td>\n",
              "      <td>44955</td>\n",
              "      <td>NaN</td>\n",
              "      <td>02-03-2020</td>\n",
              "      <td>Find out how you can protect yourself and love...</td>\n",
              "      <td>Extremely Positive</td>\n",
              "    </tr>\n",
              "    <tr>\n",
              "      <th>3</th>\n",
              "      <td>4</td>\n",
              "      <td>44956</td>\n",
              "      <td>Chicagoland</td>\n",
              "      <td>02-03-2020</td>\n",
              "      <td>#Panic buying hits #NewYork City as anxious sh...</td>\n",
              "      <td>Negative</td>\n",
              "    </tr>\n",
              "    <tr>\n",
              "      <th>4</th>\n",
              "      <td>5</td>\n",
              "      <td>44957</td>\n",
              "      <td>Melbourne, Victoria</td>\n",
              "      <td>03-03-2020</td>\n",
              "      <td>#toiletpaper #dunnypaper #coronavirus #coronav...</td>\n",
              "      <td>Neutral</td>\n",
              "    </tr>\n",
              "  </tbody>\n",
              "</table>\n",
              "</div>"
            ],
            "text/plain": [
              "   UserName  ...           Sentiment\n",
              "0         1  ...  Extremely Negative\n",
              "1         2  ...            Positive\n",
              "2         3  ...  Extremely Positive\n",
              "3         4  ...            Negative\n",
              "4         5  ...             Neutral\n",
              "\n",
              "[5 rows x 6 columns]"
            ]
          },
          "metadata": {
            "tags": []
          },
          "execution_count": 8
        }
      ]
    },
    {
      "cell_type": "code",
      "metadata": {
        "colab": {
          "base_uri": "https://localhost:8080/"
        },
        "id": "ZsjK5B3ND5Wt",
        "outputId": "67dffcc7-cf3c-4e87-b24f-19d6d23699ec"
      },
      "source": [
        "test_df.info()"
      ],
      "execution_count": 9,
      "outputs": [
        {
          "output_type": "stream",
          "text": [
            "<class 'pandas.core.frame.DataFrame'>\n",
            "RangeIndex: 3798 entries, 0 to 3797\n",
            "Data columns (total 6 columns):\n",
            " #   Column         Non-Null Count  Dtype \n",
            "---  ------         --------------  ----- \n",
            " 0   UserName       3798 non-null   int64 \n",
            " 1   ScreenName     3798 non-null   int64 \n",
            " 2   Location       2964 non-null   object\n",
            " 3   TweetAt        3798 non-null   object\n",
            " 4   OriginalTweet  3798 non-null   object\n",
            " 5   Sentiment      3798 non-null   object\n",
            "dtypes: int64(2), object(4)\n",
            "memory usage: 178.2+ KB\n"
          ],
          "name": "stdout"
        }
      ]
    },
    {
      "cell_type": "code",
      "metadata": {
        "colab": {
          "base_uri": "https://localhost:8080/"
        },
        "id": "ANCw_pybEBRy",
        "outputId": "b3801cb3-5f91-431f-fdcf-c2e9cbe6f3e9"
      },
      "source": [
        "test_df.isnull().sum()"
      ],
      "execution_count": 10,
      "outputs": [
        {
          "output_type": "execute_result",
          "data": {
            "text/plain": [
              "UserName           0\n",
              "ScreenName         0\n",
              "Location         834\n",
              "TweetAt            0\n",
              "OriginalTweet      0\n",
              "Sentiment          0\n",
              "dtype: int64"
            ]
          },
          "metadata": {
            "tags": []
          },
          "execution_count": 10
        }
      ]
    },
    {
      "cell_type": "code",
      "metadata": {
        "colab": {
          "base_uri": "https://localhost:8080/"
        },
        "id": "Jf80grM9EH1y",
        "outputId": "9584b1cf-e9d4-41ff-ef45-8be90a37853c"
      },
      "source": [
        "train_x, train_y = train_df['OriginalTweet'].copy(), train_df['Sentiment'].copy()\r\n",
        "\r\n",
        "train_x.head()"
      ],
      "execution_count": 11,
      "outputs": [
        {
          "output_type": "execute_result",
          "data": {
            "text/plain": [
              "0    @MeNyrbie @Phil_Gahan @Chrisitv https://t.co/i...\n",
              "1    advice Talk to your neighbours family to excha...\n",
              "2    Coronavirus Australia: Woolworths to give elde...\n",
              "3    My food stock is not the only one which is emp...\n",
              "4    Me, ready to go at supermarket during the #COV...\n",
              "Name: OriginalTweet, dtype: object"
            ]
          },
          "metadata": {
            "tags": []
          },
          "execution_count": 11
        }
      ]
    },
    {
      "cell_type": "code",
      "metadata": {
        "colab": {
          "base_uri": "https://localhost:8080/"
        },
        "id": "MSuxPL8tfE2m",
        "outputId": "f4ade855-1968-4496-a024-eb613df7b804"
      },
      "source": [
        "test_x, test_y = test_df['OriginalTweet'].copy(), test_df['Sentiment'].copy()\r\n",
        "test_x.head()"
      ],
      "execution_count": 12,
      "outputs": [
        {
          "output_type": "execute_result",
          "data": {
            "text/plain": [
              "0    TRENDING: New Yorkers encounter empty supermar...\n",
              "1    When I couldn't find hand sanitizer at Fred Me...\n",
              "2    Find out how you can protect yourself and love...\n",
              "3    #Panic buying hits #NewYork City as anxious sh...\n",
              "4    #toiletpaper #dunnypaper #coronavirus #coronav...\n",
              "Name: OriginalTweet, dtype: object"
            ]
          },
          "metadata": {
            "tags": []
          },
          "execution_count": 12
        }
      ]
    },
    {
      "cell_type": "markdown",
      "metadata": {
        "id": "1rcx9huUE26l"
      },
      "source": [
        "Data cleaning"
      ]
    },
    {
      "cell_type": "code",
      "metadata": {
        "id": "SV8MQ3v5EzbI"
      },
      "source": [
        "stop = stopwords.words('english')\r\n",
        "def clean(text):\r\n",
        "        # specific\r\n",
        "    text = re.sub(r\"won't\", \"will not\", text)\r\n",
        "    text = re.sub(r\"can\\'t\", \"can not\", text)\r\n",
        "\r\n",
        "    # general\r\n",
        "    text = re.sub(r\"n\\'t\", \" not\", text)\r\n",
        "    text = re.sub(r\"\\'re\", \" are\", text)\r\n",
        "    text = re.sub(r\"\\'s\", \" is\", text)\r\n",
        "    text = re.sub(r\"\\'d\", \" would\", text)\r\n",
        "    text = re.sub(r\"\\'ll\", \" will\", text)\r\n",
        "    text = re.sub(r\"\\'t\", \" not\", text)\r\n",
        "    text = re.sub(r\"\\'ve\", \" have\", text)\r\n",
        "    text = re.sub(r\"\\'m\", \" am\", text)\r\n",
        "# menghapus url\r\n",
        "#         text = re.sub(r'https?://\\S+|www\\.\\S+', ' ', text)\r\n",
        "    text = re.sub(r'http\\S+', '', text)\r\n",
        "# menghapus @\r\n",
        "    text = re.sub(r'@\\w+', '', text)\r\n",
        "# menghapus #\r\n",
        "    text = re.sub(r'#\\w+', '', text)\r\n",
        "    \r\n",
        "    text = re.sub(r'<.*?>', '', text)\r\n",
        "        \r\n",
        "    text = text.split()\r\n",
        "        \r\n",
        "    text = ' '.join([word.lower() for word in text if word.lower() not in stop])\r\n",
        "        \r\n",
        "    return text"
      ],
      "execution_count": 15,
      "outputs": []
    },
    {
      "cell_type": "code",
      "metadata": {
        "colab": {
          "base_uri": "https://localhost:8080/"
        },
        "id": "0mRNiegmFVLu",
        "outputId": "fcdd65de-f77d-4652-d180-a2220c2892eb"
      },
      "source": [
        "train_x.head()\r\n",
        "train_x_cleaned = train_x.apply(clean)\r\n",
        "train_x_cleaned.head()"
      ],
      "execution_count": 16,
      "outputs": [
        {
          "output_type": "execute_result",
          "data": {
            "text/plain": [
              "0                                                     \n",
              "1    advice talk neighbours family exchange phone n...\n",
              "2    coronavirus australia: woolworths give elderly...\n",
              "3    food stock one empty... please, panic, enough ...\n",
              "4    me, ready go supermarket outbreak. paranoid, f...\n",
              "Name: OriginalTweet, dtype: object"
            ]
          },
          "metadata": {
            "tags": []
          },
          "execution_count": 16
        }
      ]
    },
    {
      "cell_type": "code",
      "metadata": {
        "colab": {
          "base_uri": "https://localhost:8080/"
        },
        "id": "YiFK-dfOgGjF",
        "outputId": "189ed1f8-b5ba-4ee6-e891-02785e193af7"
      },
      "source": [
        "test_x.head()\r\n",
        "test_x_cleaned = test_x.apply(clean)\r\n",
        "test_x_cleaned.head()"
      ],
      "execution_count": 17,
      "outputs": [
        {
          "output_type": "execute_result",
          "data": {
            "text/plain": [
              "0    trending: new yorkers encounter empty supermar...\n",
              "1    could find hand sanitizer fred meyer, turned ....\n",
              "2                          find protect loved ones . ?\n",
              "3    buying hits city anxious shoppers stock food&a...\n",
              "4    one week everyone buying baby milk powder next...\n",
              "Name: OriginalTweet, dtype: object"
            ]
          },
          "metadata": {
            "tags": []
          },
          "execution_count": 17
        }
      ]
    },
    {
      "cell_type": "code",
      "metadata": {
        "colab": {
          "base_uri": "https://localhost:8080/"
        },
        "id": "5I31rwJbGhZ0",
        "outputId": "abdd7f66-3d3f-49e1-8854-0e1a807d64ee"
      },
      "source": [
        "train_y.value_counts()"
      ],
      "execution_count": 18,
      "outputs": [
        {
          "output_type": "execute_result",
          "data": {
            "text/plain": [
              "Positive              11422\n",
              "Negative               9917\n",
              "Neutral                7713\n",
              "Extremely Positive     6624\n",
              "Extremely Negative     5481\n",
              "Name: Sentiment, dtype: int64"
            ]
          },
          "metadata": {
            "tags": []
          },
          "execution_count": 18
        }
      ]
    },
    {
      "cell_type": "code",
      "metadata": {
        "colab": {
          "base_uri": "https://localhost:8080/"
        },
        "id": "e5O9Jw_dgaZ8",
        "outputId": "b97409e5-1dfd-400e-e147-29905287830f"
      },
      "source": [
        "test_y.value_counts()"
      ],
      "execution_count": 19,
      "outputs": [
        {
          "output_type": "execute_result",
          "data": {
            "text/plain": [
              "Negative              1041\n",
              "Positive               947\n",
              "Neutral                619\n",
              "Extremely Positive     599\n",
              "Extremely Negative     592\n",
              "Name: Sentiment, dtype: int64"
            ]
          },
          "metadata": {
            "tags": []
          },
          "execution_count": 19
        }
      ]
    },
    {
      "cell_type": "code",
      "metadata": {
        "colab": {
          "base_uri": "https://localhost:8080/"
        },
        "id": "0hTL4eMkGtSB",
        "outputId": "fa19f6dc-40b6-47e4-a41d-8f7842a5d5d0"
      },
      "source": [
        "def pretrain(sentiment):\r\n",
        "    if sentiment == \"Positive\":\r\n",
        "        return 0\r\n",
        "    \r\n",
        "    elif sentiment == \"Extremely Positive\":\r\n",
        "        return 0\r\n",
        "    \r\n",
        "    elif sentiment == \"Negative\":\r\n",
        "        return 1\r\n",
        "    \r\n",
        "    elif sentiment == \"Extremely Negative\":\r\n",
        "        return 1\r\n",
        "    \r\n",
        "    else:\r\n",
        "        return 2\r\n",
        "    \r\n",
        "train_y = train_y.apply(pretrain)\r\n",
        "train_y.value_counts(normalize= True)"
      ],
      "execution_count": 20,
      "outputs": [
        {
          "output_type": "execute_result",
          "data": {
            "text/plain": [
              "0    0.438467\n",
              "1    0.374128\n",
              "2    0.187404\n",
              "Name: Sentiment, dtype: float64"
            ]
          },
          "metadata": {
            "tags": []
          },
          "execution_count": 20
        }
      ]
    },
    {
      "cell_type": "markdown",
      "metadata": {
        "id": "vckEXFvBG99M"
      },
      "source": [
        "Tokenize"
      ]
    },
    {
      "cell_type": "code",
      "metadata": {
        "colab": {
          "base_uri": "https://localhost:8080/"
        },
        "id": "Ovbu1EVDay_9",
        "outputId": "2683bf0a-cee4-411a-b9f1-213289141022"
      },
      "source": [
        "tokenizer = Tokenizer(num_words=5000, oov_token='x')\r\n",
        "tokenizer.fit_on_texts(train_x_cleaned)\r\n",
        "vocab_size = len\r\n",
        "\r\n",
        "sekuens_train = tokenizer.texts_to_sequences(train_x_cleaned)\r\n",
        "\r\n",
        "x = pad_sequences(sekuens_train)\r\n",
        "print('example x:{}'.format(x[4]))"
      ],
      "execution_count": 38,
      "outputs": [
        {
          "output_type": "stream",
          "text": [
            "example x:[   0    0    0    0    0    0    0    0    0    0    0    0    0    0\n",
            "    0    0    0    0    0    0    0    0    0    0    0    0    0    0\n",
            "    0    0    0    0    0    0    0  314  649   23    7   65 3959    6\n",
            "   29 1618  130  744  212   35   18 1605  354]\n"
          ],
          "name": "stdout"
        }
      ]
    },
    {
      "cell_type": "markdown",
      "metadata": {
        "id": "KIcgpLHQHlrQ"
      },
      "source": [
        "Model"
      ]
    },
    {
      "cell_type": "code",
      "metadata": {
        "id": "zXkLOIiZXnWp"
      },
      "source": [
        "BATCH_SIZE = 64\r\n",
        "EPOCHS = 4\r\n",
        "embedding_dim=16\r\n",
        "model = Sequential([\r\n",
        "    tf.keras.layers.Embedding(input_dim=5000, output_dim=16),\r\n",
        "    tf.keras.layers.LSTM(64),\r\n",
        "    tf.keras.layers.Dense(128, activation='relu'),\r\n",
        "    tf.keras.layers.Dense(5, activation='softmax')\r\n",
        "])"
      ],
      "execution_count": 39,
      "outputs": []
    },
    {
      "cell_type": "code",
      "metadata": {
        "id": "I0g7VJF0fSiY"
      },
      "source": [
        "# Kompilasi Model\r\n",
        "model.compile(loss='sparse_categorical_crossentropy', \r\n",
        "              optimizer='adam', \r\n",
        "              metrics=['accuracy'])"
      ],
      "execution_count": 40,
      "outputs": []
    },
    {
      "cell_type": "code",
      "metadata": {
        "colab": {
          "base_uri": "https://localhost:8080/"
        },
        "id": "XxL21fCfH3o-",
        "outputId": "631caae6-ebe5-400e-8c23-836b7b7ed26a"
      },
      "source": [
        "# Melatih model menggunakan metode fit\r\n",
        "history = model.fit(x, train_y, epochs=EPOCHS, batch_size=BATCH_SIZE, validation_split=0.2)"
      ],
      "execution_count": 41,
      "outputs": [
        {
          "output_type": "stream",
          "text": [
            "Epoch 1/4\n",
            "515/515 [==============================] - 26s 46ms/step - loss: 1.0620 - accuracy: 0.4750 - val_loss: 0.5467 - val_accuracy: 0.7812\n",
            "Epoch 2/4\n",
            "515/515 [==============================] - 22s 43ms/step - loss: 0.4722 - accuracy: 0.8269 - val_loss: 0.4570 - val_accuracy: 0.8421\n",
            "Epoch 3/4\n",
            "515/515 [==============================] - 22s 43ms/step - loss: 0.3547 - accuracy: 0.8823 - val_loss: 0.4417 - val_accuracy: 0.8485\n",
            "Epoch 4/4\n",
            "515/515 [==============================] - 22s 43ms/step - loss: 0.3192 - accuracy: 0.8960 - val_loss: 0.4393 - val_accuracy: 0.8537\n"
          ],
          "name": "stdout"
        }
      ]
    },
    {
      "cell_type": "code",
      "metadata": {
        "colab": {
          "base_uri": "https://localhost:8080/",
          "height": 298
        },
        "id": "66pKJjquj3id",
        "outputId": "e1a2e115-780b-465c-bcb5-50277f1e7a6d"
      },
      "source": [
        "acc = history.history['accuracy']\r\n",
        "val_acc = history.history['val_accuracy']\r\n",
        "loss = history.history['loss']\r\n",
        "val_loss = history.history['val_loss']\r\n",
        "\r\n",
        "epochs = range(len(acc))\r\n",
        "\r\n",
        "plt.plot(epochs, acc, 'r', label='loss ')\r\n",
        "plt.plot(epochs, val_acc, 'b', label='accuracy')\r\n",
        "plt.title('loss & accuracy')\r\n",
        "plt.legend(loc=0)\r\n",
        "plt.figure()\r\n",
        "plt.show()"
      ],
      "execution_count": 42,
      "outputs": [
        {
          "output_type": "display_data",
          "data": {
            "image/png": "[encoded data removed]",
            "text/plain": [
              "<Figure size 432x288 with 1 Axes>"
            ]
          },
          "metadata": {
            "tags": [],
            "needs_background": "light"
          }
        },
        {
          "output_type": "display_data",
          "data": {
            "text/plain": [
              "<Figure size 432x288 with 0 Axes>"
            ]
          },
          "metadata": {
            "tags": []
          }
        }
      ]
    }
  ]
}