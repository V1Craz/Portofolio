{
  "nbformat": 4,
  "nbformat_minor": 0,
  "metadata": {
    "colab": {
      "name": "Untitled5.ipynb",
      "provenance": [],
      "collapsed_sections": []
    },
    "kernelspec": {
      "name": "python3",
      "display_name": "Python 3"
    }
  },
  "cells": [
    {
      "cell_type": "code",
      "metadata": {
        "id": "7KBSMkk1MlRR"
      },
      "source": [
        "import math\n",
        "import numpy as np\n",
        "import pandas as pd\n",
        "\n",
        "import tensorflow as tf\n",
        "from keras.layers import Dense, LSTM\n",
        "from tensorflow.keras.preprocessing.text import Tokenizer\n",
        "from tensorflow.keras.preprocessing.sequence import pad_sequences\n",
        "from tensorflow.keras import layers, Sequential\n",
        "from tensorflow.keras.optimizers import Adam\n",
        "\n",
        "import seaborn as sns\n",
        "import matplotlib.pyplot as plt\n",
        "from sklearn.model_selection import train_test_split\n",
        "from sklearn.preprocessing import MinMaxScaler\n",
        "from sklearn.preprocessing import RobustScaler\n",
        "from sklearn.feature_extraction.text import TfidfVectorizer\n",
        "from sklearn.metrics import accuracy_score\n",
        "from sklearn.metrics import confusion_matrix"
      ],
      "execution_count": null,
      "outputs": []
    },
    {
      "cell_type": "code",
      "metadata": {
        "id": "-7wO6Rm5Rc9f",
        "colab": {
          "base_uri": "https://localhost:8080/"
        },
        "outputId": "dfeb2bf4-e012-42f0-f660-2502056d8d2d"
      },
      "source": [
        "from google.colab import drive\r\n",
        "drive.mount(\"/content/gdrive\")"
      ],
      "execution_count": null,
      "outputs": [
        {
          "output_type": "stream",
          "text": [
            "Drive already mounted at /content/gdrive; to attempt to forcibly remount, call drive.mount(\"/content/gdrive\", force_remount=True).\n"
          ],
          "name": "stdout"
        }
      ]
    },
    {
      "cell_type": "code",
      "metadata": {
        "colab": {
          "base_uri": "https://localhost:8080/",
          "height": 197
        },
        "id": "dme2XXDJRnmF",
        "outputId": "614055d2-7ab9-4ec5-d2c6-5f108e1cbc77"
      },
      "source": [
        "df = pd.read_csv('gdrive/My Drive/Submission_Time_Series/prices-split-adjusted.csv',)\r\n",
        "\r\n",
        "df.head()"
      ],
      "execution_count": null,
      "outputs": [
        {
          "output_type": "execute_result",
          "data": {
            "text/html": [
              "<div>\n",
              "<style scoped>\n",
              "    .dataframe tbody tr th:only-of-type {\n",
              "        vertical-align: middle;\n",
              "    }\n",
              "\n",
              "    .dataframe tbody tr th {\n",
              "        vertical-align: top;\n",
              "    }\n",
              "\n",
              "    .dataframe thead th {\n",
              "        text-align: right;\n",
              "    }\n",
              "</style>\n",
              "<table border=\"1\" class=\"dataframe\">\n",
              "  <thead>\n",
              "    <tr style=\"text-align: right;\">\n",
              "      <th></th>\n",
              "      <th>date</th>\n",
              "      <th>symbol</th>\n",
              "      <th>open</th>\n",
              "      <th>close</th>\n",
              "      <th>low</th>\n",
              "      <th>high</th>\n",
              "      <th>volume</th>\n",
              "    </tr>\n",
              "  </thead>\n",
              "  <tbody>\n",
              "    <tr>\n",
              "      <th>0</th>\n",
              "      <td>2016-01-05</td>\n",
              "      <td>WLTW</td>\n",
              "      <td>123.430000</td>\n",
              "      <td>125.839996</td>\n",
              "      <td>122.309998</td>\n",
              "      <td>126.250000</td>\n",
              "      <td>2163600.0</td>\n",
              "    </tr>\n",
              "    <tr>\n",
              "      <th>1</th>\n",
              "      <td>2016-01-06</td>\n",
              "      <td>WLTW</td>\n",
              "      <td>125.239998</td>\n",
              "      <td>119.980003</td>\n",
              "      <td>119.940002</td>\n",
              "      <td>125.540001</td>\n",
              "      <td>2386400.0</td>\n",
              "    </tr>\n",
              "    <tr>\n",
              "      <th>2</th>\n",
              "      <td>2016-01-07</td>\n",
              "      <td>WLTW</td>\n",
              "      <td>116.379997</td>\n",
              "      <td>114.949997</td>\n",
              "      <td>114.930000</td>\n",
              "      <td>119.739998</td>\n",
              "      <td>2489500.0</td>\n",
              "    </tr>\n",
              "    <tr>\n",
              "      <th>3</th>\n",
              "      <td>2016-01-08</td>\n",
              "      <td>WLTW</td>\n",
              "      <td>115.480003</td>\n",
              "      <td>116.620003</td>\n",
              "      <td>113.500000</td>\n",
              "      <td>117.440002</td>\n",
              "      <td>2006300.0</td>\n",
              "    </tr>\n",
              "    <tr>\n",
              "      <th>4</th>\n",
              "      <td>2016-01-11</td>\n",
              "      <td>WLTW</td>\n",
              "      <td>117.010002</td>\n",
              "      <td>114.970001</td>\n",
              "      <td>114.089996</td>\n",
              "      <td>117.330002</td>\n",
              "      <td>1408600.0</td>\n",
              "    </tr>\n",
              "  </tbody>\n",
              "</table>\n",
              "</div>"
            ],
            "text/plain": [
              "         date symbol        open       close         low        high     volume\n",
              "0  2016-01-05   WLTW  123.430000  125.839996  122.309998  126.250000  2163600.0\n",
              "1  2016-01-06   WLTW  125.239998  119.980003  119.940002  125.540001  2386400.0\n",
              "2  2016-01-07   WLTW  116.379997  114.949997  114.930000  119.739998  2489500.0\n",
              "3  2016-01-08   WLTW  115.480003  116.620003  113.500000  117.440002  2006300.0\n",
              "4  2016-01-11   WLTW  117.010002  114.970001  114.089996  117.330002  1408600.0"
            ]
          },
          "metadata": {
            "tags": []
          },
          "execution_count": 116
        }
      ]
    },
    {
      "cell_type": "code",
      "metadata": {
        "colab": {
          "base_uri": "https://localhost:8080/"
        },
        "id": "HU8YZ_ZKAIh6",
        "outputId": "a8f58680-1c4f-431e-ea00-cba714aa77e9"
      },
      "source": [
        "df.shape"
      ],
      "execution_count": null,
      "outputs": [
        {
          "output_type": "execute_result",
          "data": {
            "text/plain": [
              "(851264, 7)"
            ]
          },
          "metadata": {
            "tags": []
          },
          "execution_count": 117
        }
      ]
    },
    {
      "cell_type": "code",
      "metadata": {
        "id": "JGSCYryDamSN",
        "colab": {
          "base_uri": "https://localhost:8080/"
        },
        "outputId": "e21d2441-91df-44d4-9fcb-6641fc4cfdbf"
      },
      "source": [
        "df.info()"
      ],
      "execution_count": null,
      "outputs": [
        {
          "output_type": "stream",
          "text": [
            "<class 'pandas.core.frame.DataFrame'>\n",
            "RangeIndex: 851264 entries, 0 to 851263\n",
            "Data columns (total 7 columns):\n",
            " #   Column  Non-Null Count   Dtype  \n",
            "---  ------  --------------   -----  \n",
            " 0   date    851264 non-null  object \n",
            " 1   symbol  851264 non-null  object \n",
            " 2   open    851264 non-null  float64\n",
            " 3   close   851264 non-null  float64\n",
            " 4   low     851264 non-null  float64\n",
            " 5   high    851264 non-null  float64\n",
            " 6   volume  851264 non-null  float64\n",
            "dtypes: float64(5), object(2)\n",
            "memory usage: 45.5+ MB\n"
          ],
          "name": "stdout"
        }
      ]
    },
    {
      "cell_type": "code",
      "metadata": {
        "colab": {
          "base_uri": "https://localhost:8080/"
        },
        "id": "a6Qjjou3NZMd",
        "outputId": "87d2e4ec-4ea7-49c5-b68f-5a0464e8a23a"
      },
      "source": [
        "df.isnull().sum()"
      ],
      "execution_count": null,
      "outputs": [
        {
          "output_type": "execute_result",
          "data": {
            "text/plain": [
              "date      0\n",
              "symbol    0\n",
              "open      0\n",
              "close     0\n",
              "low       0\n",
              "high      0\n",
              "volume    0\n",
              "dtype: int64"
            ]
          },
          "metadata": {
            "tags": []
          },
          "execution_count": 119
        }
      ]
    },
    {
      "cell_type": "code",
      "metadata": {
        "colab": {
          "base_uri": "https://localhost:8080/",
          "height": 406
        },
        "id": "PLZJygIgzkLH",
        "outputId": "f487d2d8-c5cc-41d9-8647-2b85f04ff368"
      },
      "source": [
        "df = df.loc[(df['symbol'] == 'AAPL')]\r\n",
        "df = df.drop(columns=['symbol'])\r\n",
        "df = df[['date','open','close','low','volume','high']]\r\n",
        "df"
      ],
      "execution_count": null,
      "outputs": [
        {
          "output_type": "execute_result",
          "data": {
            "text/html": [
              "<div>\n",
              "<style scoped>\n",
              "    .dataframe tbody tr th:only-of-type {\n",
              "        vertical-align: middle;\n",
              "    }\n",
              "\n",
              "    .dataframe tbody tr th {\n",
              "        vertical-align: top;\n",
              "    }\n",
              "\n",
              "    .dataframe thead th {\n",
              "        text-align: right;\n",
              "    }\n",
              "</style>\n",
              "<table border=\"1\" class=\"dataframe\">\n",
              "  <thead>\n",
              "    <tr style=\"text-align: right;\">\n",
              "      <th></th>\n",
              "      <th>date</th>\n",
              "      <th>open</th>\n",
              "      <th>close</th>\n",
              "      <th>low</th>\n",
              "      <th>volume</th>\n",
              "      <th>high</th>\n",
              "    </tr>\n",
              "  </thead>\n",
              "  <tbody>\n",
              "    <tr>\n",
              "      <th>254</th>\n",
              "      <td>2010-01-04</td>\n",
              "      <td>30.490000</td>\n",
              "      <td>30.572857</td>\n",
              "      <td>30.340000</td>\n",
              "      <td>123432400.0</td>\n",
              "      <td>30.642857</td>\n",
              "    </tr>\n",
              "    <tr>\n",
              "      <th>721</th>\n",
              "      <td>2010-01-05</td>\n",
              "      <td>30.657143</td>\n",
              "      <td>30.625713</td>\n",
              "      <td>30.464285</td>\n",
              "      <td>150476200.0</td>\n",
              "      <td>30.798571</td>\n",
              "    </tr>\n",
              "    <tr>\n",
              "      <th>1189</th>\n",
              "      <td>2010-01-06</td>\n",
              "      <td>30.625713</td>\n",
              "      <td>30.138571</td>\n",
              "      <td>30.107143</td>\n",
              "      <td>138040000.0</td>\n",
              "      <td>30.747143</td>\n",
              "    </tr>\n",
              "    <tr>\n",
              "      <th>1657</th>\n",
              "      <td>2010-01-07</td>\n",
              "      <td>30.250000</td>\n",
              "      <td>30.082857</td>\n",
              "      <td>29.864286</td>\n",
              "      <td>119282800.0</td>\n",
              "      <td>30.285715</td>\n",
              "    </tr>\n",
              "    <tr>\n",
              "      <th>2125</th>\n",
              "      <td>2010-01-08</td>\n",
              "      <td>30.042856</td>\n",
              "      <td>30.282858</td>\n",
              "      <td>29.865715</td>\n",
              "      <td>111902700.0</td>\n",
              "      <td>30.285715</td>\n",
              "    </tr>\n",
              "    <tr>\n",
              "      <th>...</th>\n",
              "      <td>...</td>\n",
              "      <td>...</td>\n",
              "      <td>...</td>\n",
              "      <td>...</td>\n",
              "      <td>...</td>\n",
              "      <td>...</td>\n",
              "    </tr>\n",
              "    <tr>\n",
              "      <th>848767</th>\n",
              "      <td>2016-12-23</td>\n",
              "      <td>115.589996</td>\n",
              "      <td>116.519997</td>\n",
              "      <td>115.589996</td>\n",
              "      <td>14249500.0</td>\n",
              "      <td>116.519997</td>\n",
              "    </tr>\n",
              "    <tr>\n",
              "      <th>849267</th>\n",
              "      <td>2016-12-27</td>\n",
              "      <td>116.519997</td>\n",
              "      <td>117.260002</td>\n",
              "      <td>116.489998</td>\n",
              "      <td>18296900.0</td>\n",
              "      <td>117.800003</td>\n",
              "    </tr>\n",
              "    <tr>\n",
              "      <th>849767</th>\n",
              "      <td>2016-12-28</td>\n",
              "      <td>117.519997</td>\n",
              "      <td>116.760002</td>\n",
              "      <td>116.199997</td>\n",
              "      <td>20905900.0</td>\n",
              "      <td>118.019997</td>\n",
              "    </tr>\n",
              "    <tr>\n",
              "      <th>850267</th>\n",
              "      <td>2016-12-29</td>\n",
              "      <td>116.449997</td>\n",
              "      <td>116.730003</td>\n",
              "      <td>116.400002</td>\n",
              "      <td>15039500.0</td>\n",
              "      <td>117.110001</td>\n",
              "    </tr>\n",
              "    <tr>\n",
              "      <th>850767</th>\n",
              "      <td>2016-12-30</td>\n",
              "      <td>116.650002</td>\n",
              "      <td>115.820000</td>\n",
              "      <td>115.430000</td>\n",
              "      <td>30586300.0</td>\n",
              "      <td>117.199997</td>\n",
              "    </tr>\n",
              "  </tbody>\n",
              "</table>\n",
              "<p>1762 rows × 6 columns</p>\n",
              "</div>"
            ],
            "text/plain": [
              "              date        open       close         low       volume        high\n",
              "254     2010-01-04   30.490000   30.572857   30.340000  123432400.0   30.642857\n",
              "721     2010-01-05   30.657143   30.625713   30.464285  150476200.0   30.798571\n",
              "1189    2010-01-06   30.625713   30.138571   30.107143  138040000.0   30.747143\n",
              "1657    2010-01-07   30.250000   30.082857   29.864286  119282800.0   30.285715\n",
              "2125    2010-01-08   30.042856   30.282858   29.865715  111902700.0   30.285715\n",
              "...            ...         ...         ...         ...          ...         ...\n",
              "848767  2016-12-23  115.589996  116.519997  115.589996   14249500.0  116.519997\n",
              "849267  2016-12-27  116.519997  117.260002  116.489998   18296900.0  117.800003\n",
              "849767  2016-12-28  117.519997  116.760002  116.199997   20905900.0  118.019997\n",
              "850267  2016-12-29  116.449997  116.730003  116.400002   15039500.0  117.110001\n",
              "850767  2016-12-30  116.650002  115.820000  115.430000   30586300.0  117.199997\n",
              "\n",
              "[1762 rows x 6 columns]"
            ]
          },
          "metadata": {
            "tags": []
          },
          "execution_count": 120
        }
      ]
    },
    {
      "cell_type": "code",
      "metadata": {
        "colab": {
          "base_uri": "https://localhost:8080/"
        },
        "id": "GhwUnx0Yz3rB",
        "outputId": "a8696b6a-4c78-464d-d183-3ece92649f40"
      },
      "source": [
        "df.shape"
      ],
      "execution_count": null,
      "outputs": [
        {
          "output_type": "execute_result",
          "data": {
            "text/plain": [
              "(1762, 6)"
            ]
          },
          "metadata": {
            "tags": []
          },
          "execution_count": 121
        }
      ]
    },
    {
      "cell_type": "code",
      "metadata": {
        "colab": {
          "base_uri": "https://localhost:8080/",
          "height": 341
        },
        "id": "7R5XSC1V0Tgi",
        "outputId": "5bcd4ad8-1a4a-4002-aac1-c3d72f2d783b"
      },
      "source": [
        "date = df['date'].values\r\n",
        "open  = df['open'].values\r\n",
        " \r\n",
        " \r\n",
        "plt.figure(figsize=(15,5))\r\n",
        "plt.plot(date, open)\r\n",
        "plt.title('Opening Price Histori',\r\n",
        "          fontsize=20);"
      ],
      "execution_count": null,
      "outputs": [
        {
          "output_type": "display_data",
          "data": {
            "image/png": "[encoded data removed]",
            "text/plain": [
              "<Figure size 1080x360 with 1 Axes>"
            ]
          },
          "metadata": {
            "tags": [],
            "needs_background": "light"
          }
        }
      ]
    },
    {
      "cell_type": "code",
      "metadata": {
        "colab": {
          "base_uri": "https://localhost:8080/"
        },
        "id": "ECdGNJSZ4PBz",
        "outputId": "14e68466-14c2-4fa3-b0dd-1ba4ce943294"
      },
      "source": [
        "df = df.filter(['open'])\r\n",
        "dataset = df.values\r\n",
        "\r\n",
        "#Mencari tahu jumlah baris yang ada dalam kumpulan data ini untuk melatih model kita.\r\n",
        "training_data_len = math.ceil(len(dataset)* .8)\r\n",
        "training_data_len"
      ],
      "execution_count": null,
      "outputs": [
        {
          "output_type": "execute_result",
          "data": {
            "text/plain": [
              "1410"
            ]
          },
          "metadata": {
            "tags": []
          },
          "execution_count": 124
        }
      ]
    },
    {
      "cell_type": "code",
      "metadata": {
        "colab": {
          "base_uri": "https://localhost:8080/"
        },
        "id": "O5yWCa_i46gM",
        "outputId": "49178be8-9c89-467e-a069-9c5962b3ae9c"
      },
      "source": [
        "#mengukur data\r\n",
        "scaler = MinMaxScaler(feature_range=(0,1))\r\n",
        "scaled_data = scaler.fit_transform(dataset)\r\n",
        "scaled_data"
      ],
      "execution_count": null,
      "outputs": [
        {
          "output_type": "execute_result",
          "data": {
            "text/plain": [
              "array([[0.02812312],\n",
              "       [0.02968552],\n",
              "       [0.02939173],\n",
              "       ...,\n",
              "       [0.84165045],\n",
              "       [0.83164845],\n",
              "       [0.83351803]])"
            ]
          },
          "metadata": {
            "tags": []
          },
          "execution_count": 125
        }
      ]
    },
    {
      "cell_type": "code",
      "metadata": {
        "colab": {
          "base_uri": "https://localhost:8080/"
        },
        "id": "bMGt7_Vh5gGe",
        "outputId": "1633f453-be50-4db2-9cfb-c7bc49fda6d4"
      },
      "source": [
        "#Buat Data Training untuk model\r\n",
        "train_data = scaled_data[0:training_data_len , :]\r\n",
        "x_train = []\r\n",
        "y_train = []\r\n",
        "\r\n",
        "for j in range(60, len(train_data)):\r\n",
        "    x_train.append(train_data[j-60:j,0])\r\n",
        "    y_train.append(train_data[j,0])\r\n",
        "    if j<=60:\r\n",
        "        print(x_train)\r\n",
        "        print(y_train)\r\n",
        "        print()"
      ],
      "execution_count": 159,
      "outputs": [
        {
          "output_type": "stream",
          "text": [
            "[array([0.02812312, 0.02968552, 0.02939173, 0.02587968, 0.02394337,\n",
            "       0.02728183, 0.0224611 , 0.02069841, 0.02368966, 0.02478467,\n",
            "       0.02131268, 0.0300995 , 0.02632035, 0.01924285, 0.01354077,\n",
            "       0.01813448, 0.01933631, 0.01677239, 0.01163117, 0.        ,\n",
            "       0.00472725, 0.00373906, 0.00582227, 0.00034721, 0.00443348,\n",
            "       0.00540829, 0.00470054, 0.00335181, 0.00766508, 0.0127796 ,\n",
            "       0.01578421, 0.01236562, 0.01267277, 0.01331375, 0.01018896,\n",
            "       0.00782533, 0.00669027, 0.01336716, 0.01786739, 0.02344929,\n",
            "       0.02212727, 0.02258129, 0.03013956, 0.03690993, 0.03463979,\n",
            "       0.04201108, 0.04211791, 0.04673835, 0.04408093, 0.04247847,\n",
            "       0.04343993, 0.04237164, 0.04329306, 0.0375242 , 0.04442814,\n",
            "       0.04709889, 0.05147893, 0.04884823, 0.05425652, 0.05906389])]\n",
            "[0.05758163718479242]\n",
            "\n"
          ],
          "name": "stdout"
        }
      ]
    },
    {
      "cell_type": "code",
      "metadata": {
        "id": "f-YOnw285wXo"
      },
      "source": [
        "x_train, y_train = np.array(x_train), np.array(y_train)"
      ],
      "execution_count": 160,
      "outputs": []
    },
    {
      "cell_type": "code",
      "metadata": {
        "colab": {
          "base_uri": "https://localhost:8080/"
        },
        "id": "ghjY7pa15xki",
        "outputId": "b622b648-3513-4791-c7f0-faa43442951b"
      },
      "source": [
        "x_train = np.reshape(x_train, (x_train.shape[0], x_train.shape[1], 1))\r\n",
        "x_train.shape"
      ],
      "execution_count": 161,
      "outputs": [
        {
          "output_type": "execute_result",
          "data": {
            "text/plain": [
              "(1350, 60, 1)"
            ]
          },
          "metadata": {
            "tags": []
          },
          "execution_count": 161
        }
      ]
    },
    {
      "cell_type": "code",
      "metadata": {
        "id": "w9WCoqFQIN4C"
      },
      "source": [
        "def windowed_dataset(series, window_size, batch_size, shuffle_buffer):\r\n",
        "    series = tf.expand_dims(series, axis=-1)\r\n",
        "    ds = tf.data.Dataset.from_tensor_slices(series)\r\n",
        "    ds = ds.window(window_size + 1, shift=1, drop_remainder=True)\r\n",
        "    ds = ds.flat_map(lambda w: w.batch(window_size + 1))\r\n",
        "    ds = ds.shuffle(shuffle_buffer)\r\n",
        "    ds = ds.map(lambda w: (w[:-1], w[-1:]))\r\n",
        "    return ds.batch(batch_size).prefetch(1)"
      ],
      "execution_count": 171,
      "outputs": []
    },
    {
      "cell_type": "code",
      "metadata": {
        "id": "Z5L2czib6PA0"
      },
      "source": [
        "train_set = windowed_dataset(open, window_size=60, batch_size=100, shuffle_buffer=1000)\r\n",
        "\r\n",
        "model = tf.keras.models.Sequential([\r\n",
        "  tf.keras.layers.LSTM(60, return_sequences=True),\r\n",
        "  tf.keras.layers.LSTM(60),\r\n",
        "  tf.keras.layers.Dense(30, activation=\"relu\"),\r\n",
        "  tf.keras.layers.Dense(10, activation=\"relu\"),\r\n",
        "  tf.keras.layers.Dense(1),\r\n",
        "])"
      ],
      "execution_count": 173,
      "outputs": []
    },
    {
      "cell_type": "code",
      "metadata": {
        "id": "SMQMPcaZ6hlN"
      },
      "source": [
        "optimizer = tf.keras.optimizers.SGD(lr=1.0000e-04, momentum=0.9)\r\n",
        "model.compile(loss=tf.keras.losses.Huber(),\r\n",
        "              optimizer=optimizer,\r\n",
        "              metrics=[\"mae\"])"
      ],
      "execution_count": 174,
      "outputs": []
    },
    {
      "cell_type": "code",
      "metadata": {
        "colab": {
          "base_uri": "https://localhost:8080/"
        },
        "id": "WvhBVElD6oUc",
        "outputId": "4b9a1d0c-dec8-4e07-8f2b-4dc0c7ac2c9a"
      },
      "source": [
        "model.fit(x_train, y_train, epochs=100)"
      ],
      "execution_count": 176,
      "outputs": [
        {
          "output_type": "stream",
          "text": [
            "Epoch 1/100\n",
            "43/43 [==============================] - 2s 52ms/step - loss: 0.0212 - mae: 0.1689\n",
            "Epoch 2/100\n",
            "43/43 [==============================] - 2s 52ms/step - loss: 0.0211 - mae: 0.1683\n",
            "Epoch 3/100\n",
            "43/43 [==============================] - 2s 53ms/step - loss: 0.0209 - mae: 0.1679\n",
            "Epoch 4/100\n",
            "43/43 [==============================] - 2s 53ms/step - loss: 0.0208 - mae: 0.1673\n",
            "Epoch 5/100\n",
            "43/43 [==============================] - 2s 53ms/step - loss: 0.0207 - mae: 0.1668\n",
            "Epoch 6/100\n",
            "43/43 [==============================] - 2s 53ms/step - loss: 0.0205 - mae: 0.1662\n",
            "Epoch 7/100\n",
            "43/43 [==============================] - 2s 52ms/step - loss: 0.0204 - mae: 0.1656\n",
            "Epoch 8/100\n",
            "43/43 [==============================] - 2s 52ms/step - loss: 0.0202 - mae: 0.1651\n",
            "Epoch 9/100\n",
            "43/43 [==============================] - 2s 52ms/step - loss: 0.0201 - mae: 0.1645\n",
            "Epoch 10/100\n",
            "43/43 [==============================] - 2s 52ms/step - loss: 0.0200 - mae: 0.1639\n",
            "Epoch 11/100\n",
            "43/43 [==============================] - 2s 53ms/step - loss: 0.0198 - mae: 0.1632\n",
            "Epoch 12/100\n",
            "43/43 [==============================] - 2s 53ms/step - loss: 0.0197 - mae: 0.1627\n",
            "Epoch 13/100\n",
            "43/43 [==============================] - 2s 52ms/step - loss: 0.0195 - mae: 0.1621\n",
            "Epoch 14/100\n",
            "43/43 [==============================] - 2s 53ms/step - loss: 0.0194 - mae: 0.1614\n",
            "Epoch 15/100\n",
            "43/43 [==============================] - 2s 52ms/step - loss: 0.0193 - mae: 0.1608\n",
            "Epoch 16/100\n",
            "43/43 [==============================] - 2s 53ms/step - loss: 0.0191 - mae: 0.1601\n",
            "Epoch 17/100\n",
            "43/43 [==============================] - 2s 53ms/step - loss: 0.0190 - mae: 0.1595\n",
            "Epoch 18/100\n",
            "43/43 [==============================] - 2s 52ms/step - loss: 0.0188 - mae: 0.1588\n",
            "Epoch 19/100\n",
            "43/43 [==============================] - 2s 53ms/step - loss: 0.0186 - mae: 0.1581\n",
            "Epoch 20/100\n",
            "43/43 [==============================] - 2s 53ms/step - loss: 0.0185 - mae: 0.1572\n",
            "Epoch 21/100\n",
            "43/43 [==============================] - 2s 53ms/step - loss: 0.0183 - mae: 0.1564\n",
            "Epoch 22/100\n",
            "43/43 [==============================] - 2s 52ms/step - loss: 0.0181 - mae: 0.1554\n",
            "Epoch 23/100\n",
            "43/43 [==============================] - 2s 52ms/step - loss: 0.0178 - mae: 0.1544\n",
            "Epoch 24/100\n",
            "43/43 [==============================] - 2s 52ms/step - loss: 0.0176 - mae: 0.1531\n",
            "Epoch 25/100\n",
            "43/43 [==============================] - 2s 52ms/step - loss: 0.0173 - mae: 0.1515\n",
            "Epoch 26/100\n",
            "43/43 [==============================] - 2s 52ms/step - loss: 0.0169 - mae: 0.1497\n",
            "Epoch 27/100\n",
            "43/43 [==============================] - 2s 52ms/step - loss: 0.0166 - mae: 0.1477\n",
            "Epoch 28/100\n",
            "43/43 [==============================] - 2s 52ms/step - loss: 0.0162 - mae: 0.1461\n",
            "Epoch 29/100\n",
            "43/43 [==============================] - 2s 52ms/step - loss: 0.0159 - mae: 0.1445\n",
            "Epoch 30/100\n",
            "43/43 [==============================] - 2s 52ms/step - loss: 0.0156 - mae: 0.1431\n",
            "Epoch 31/100\n",
            "43/43 [==============================] - 2s 53ms/step - loss: 0.0154 - mae: 0.1418\n",
            "Epoch 32/100\n",
            "43/43 [==============================] - 2s 52ms/step - loss: 0.0151 - mae: 0.1405\n",
            "Epoch 33/100\n",
            "43/43 [==============================] - 2s 53ms/step - loss: 0.0148 - mae: 0.1393\n",
            "Epoch 34/100\n",
            "43/43 [==============================] - 2s 53ms/step - loss: 0.0146 - mae: 0.1382\n",
            "Epoch 35/100\n",
            "43/43 [==============================] - 2s 53ms/step - loss: 0.0143 - mae: 0.1371\n",
            "Epoch 36/100\n",
            "43/43 [==============================] - 2s 53ms/step - loss: 0.0141 - mae: 0.1360\n",
            "Epoch 37/100\n",
            "43/43 [==============================] - 2s 53ms/step - loss: 0.0139 - mae: 0.1349\n",
            "Epoch 38/100\n",
            "43/43 [==============================] - 2s 53ms/step - loss: 0.0137 - mae: 0.1338\n",
            "Epoch 39/100\n",
            "43/43 [==============================] - 2s 52ms/step - loss: 0.0134 - mae: 0.1326\n",
            "Epoch 40/100\n",
            "43/43 [==============================] - 2s 53ms/step - loss: 0.0132 - mae: 0.1314\n",
            "Epoch 41/100\n",
            "43/43 [==============================] - 2s 53ms/step - loss: 0.0129 - mae: 0.1301\n",
            "Epoch 42/100\n",
            "43/43 [==============================] - 2s 53ms/step - loss: 0.0126 - mae: 0.1288\n",
            "Epoch 43/100\n",
            "43/43 [==============================] - 2s 53ms/step - loss: 0.0124 - mae: 0.1275\n",
            "Epoch 44/100\n",
            "43/43 [==============================] - 2s 54ms/step - loss: 0.0121 - mae: 0.1262\n",
            "Epoch 45/100\n",
            "43/43 [==============================] - 2s 53ms/step - loss: 0.0119 - mae: 0.1248\n",
            "Epoch 46/100\n",
            "43/43 [==============================] - 2s 53ms/step - loss: 0.0116 - mae: 0.1233\n",
            "Epoch 47/100\n",
            "43/43 [==============================] - 2s 53ms/step - loss: 0.0113 - mae: 0.1216\n",
            "Epoch 48/100\n",
            "43/43 [==============================] - 2s 53ms/step - loss: 0.0110 - mae: 0.1198\n",
            "Epoch 49/100\n",
            "43/43 [==============================] - 2s 53ms/step - loss: 0.0106 - mae: 0.1178\n",
            "Epoch 50/100\n",
            "43/43 [==============================] - 2s 53ms/step - loss: 0.0103 - mae: 0.1156\n",
            "Epoch 51/100\n",
            "43/43 [==============================] - 2s 53ms/step - loss: 0.0099 - mae: 0.1131\n",
            "Epoch 52/100\n",
            "43/43 [==============================] - 2s 53ms/step - loss: 0.0096 - mae: 0.1107\n",
            "Epoch 53/100\n",
            "43/43 [==============================] - 2s 54ms/step - loss: 0.0092 - mae: 0.1082\n",
            "Epoch 54/100\n",
            "43/43 [==============================] - 2s 53ms/step - loss: 0.0089 - mae: 0.1059\n",
            "Epoch 55/100\n",
            "43/43 [==============================] - 2s 53ms/step - loss: 0.0086 - mae: 0.1037\n",
            "Epoch 56/100\n",
            "43/43 [==============================] - 2s 54ms/step - loss: 0.0083 - mae: 0.1015\n",
            "Epoch 57/100\n",
            "43/43 [==============================] - 2s 54ms/step - loss: 0.0080 - mae: 0.0995\n",
            "Epoch 58/100\n",
            "43/43 [==============================] - 2s 54ms/step - loss: 0.0077 - mae: 0.0976\n",
            "Epoch 59/100\n",
            "43/43 [==============================] - 2s 54ms/step - loss: 0.0075 - mae: 0.0958\n",
            "Epoch 60/100\n",
            "43/43 [==============================] - 2s 54ms/step - loss: 0.0072 - mae: 0.0940\n",
            "Epoch 61/100\n",
            "43/43 [==============================] - 2s 53ms/step - loss: 0.0070 - mae: 0.0923\n",
            "Epoch 62/100\n",
            "43/43 [==============================] - 2s 54ms/step - loss: 0.0068 - mae: 0.0908\n",
            "Epoch 63/100\n",
            "43/43 [==============================] - 2s 54ms/step - loss: 0.0065 - mae: 0.0892\n",
            "Epoch 64/100\n",
            "43/43 [==============================] - 2s 53ms/step - loss: 0.0063 - mae: 0.0877\n",
            "Epoch 65/100\n",
            "43/43 [==============================] - 2s 53ms/step - loss: 0.0061 - mae: 0.0862\n",
            "Epoch 66/100\n",
            "43/43 [==============================] - 2s 52ms/step - loss: 0.0059 - mae: 0.0847\n",
            "Epoch 67/100\n",
            "43/43 [==============================] - 2s 53ms/step - loss: 0.0057 - mae: 0.0832\n",
            "Epoch 68/100\n",
            "43/43 [==============================] - 2s 54ms/step - loss: 0.0056 - mae: 0.0818\n",
            "Epoch 69/100\n",
            "43/43 [==============================] - 2s 54ms/step - loss: 0.0054 - mae: 0.0805\n",
            "Epoch 70/100\n",
            "43/43 [==============================] - 2s 53ms/step - loss: 0.0052 - mae: 0.0791\n",
            "Epoch 71/100\n",
            "43/43 [==============================] - 2s 54ms/step - loss: 0.0050 - mae: 0.0778\n",
            "Epoch 72/100\n",
            "43/43 [==============================] - 2s 53ms/step - loss: 0.0049 - mae: 0.0765\n",
            "Epoch 73/100\n",
            "43/43 [==============================] - 2s 54ms/step - loss: 0.0047 - mae: 0.0753\n",
            "Epoch 74/100\n",
            "43/43 [==============================] - 2s 53ms/step - loss: 0.0046 - mae: 0.0741\n",
            "Epoch 75/100\n",
            "43/43 [==============================] - 2s 53ms/step - loss: 0.0044 - mae: 0.0728\n",
            "Epoch 76/100\n",
            "43/43 [==============================] - 2s 53ms/step - loss: 0.0043 - mae: 0.0716\n",
            "Epoch 77/100\n",
            "43/43 [==============================] - 2s 53ms/step - loss: 0.0041 - mae: 0.0704\n",
            "Epoch 78/100\n",
            "43/43 [==============================] - 2s 54ms/step - loss: 0.0040 - mae: 0.0692\n",
            "Epoch 79/100\n",
            "43/43 [==============================] - 2s 54ms/step - loss: 0.0039 - mae: 0.0681\n",
            "Epoch 80/100\n",
            "43/43 [==============================] - 2s 54ms/step - loss: 0.0038 - mae: 0.0669\n",
            "Epoch 81/100\n",
            "43/43 [==============================] - 2s 54ms/step - loss: 0.0036 - mae: 0.0659\n",
            "Epoch 82/100\n",
            "43/43 [==============================] - 2s 54ms/step - loss: 0.0035 - mae: 0.0648\n",
            "Epoch 83/100\n",
            "43/43 [==============================] - 2s 54ms/step - loss: 0.0034 - mae: 0.0637\n",
            "Epoch 84/100\n",
            "43/43 [==============================] - 2s 54ms/step - loss: 0.0033 - mae: 0.0627\n",
            "Epoch 85/100\n",
            "43/43 [==============================] - 2s 54ms/step - loss: 0.0032 - mae: 0.0617\n",
            "Epoch 86/100\n",
            "43/43 [==============================] - 2s 54ms/step - loss: 0.0031 - mae: 0.0606\n",
            "Epoch 87/100\n",
            "43/43 [==============================] - 2s 54ms/step - loss: 0.0030 - mae: 0.0595\n",
            "Epoch 88/100\n",
            "43/43 [==============================] - 2s 54ms/step - loss: 0.0029 - mae: 0.0585\n",
            "Epoch 89/100\n",
            "43/43 [==============================] - 2s 54ms/step - loss: 0.0028 - mae: 0.0575\n",
            "Epoch 90/100\n",
            "43/43 [==============================] - 2s 54ms/step - loss: 0.0027 - mae: 0.0565\n",
            "Epoch 91/100\n",
            "43/43 [==============================] - 2s 53ms/step - loss: 0.0026 - mae: 0.0555\n",
            "Epoch 92/100\n",
            "43/43 [==============================] - 2s 54ms/step - loss: 0.0025 - mae: 0.0546\n",
            "Epoch 93/100\n",
            "43/43 [==============================] - 2s 54ms/step - loss: 0.0024 - mae: 0.0536\n",
            "Epoch 94/100\n",
            "43/43 [==============================] - 2s 54ms/step - loss: 0.0024 - mae: 0.0527\n",
            "Epoch 95/100\n",
            "43/43 [==============================] - 2s 54ms/step - loss: 0.0023 - mae: 0.0518\n",
            "Epoch 96/100\n",
            "43/43 [==============================] - 2s 54ms/step - loss: 0.0022 - mae: 0.0509\n",
            "Epoch 97/100\n",
            "43/43 [==============================] - 2s 54ms/step - loss: 0.0021 - mae: 0.0501\n",
            "Epoch 98/100\n",
            "43/43 [==============================] - 2s 53ms/step - loss: 0.0021 - mae: 0.0492\n",
            "Epoch 99/100\n",
            "43/43 [==============================] - 2s 54ms/step - loss: 0.0020 - mae: 0.0483\n",
            "Epoch 100/100\n",
            "43/43 [==============================] - 2s 54ms/step - loss: 0.0019 - mae: 0.0475\n"
          ],
          "name": "stdout"
        },
        {
          "output_type": "execute_result",
          "data": {
            "text/plain": [
              "<tensorflow.python.keras.callbacks.History at 0x7fea88354410>"
            ]
          },
          "metadata": {
            "tags": []
          },
          "execution_count": 176
        }
      ]
    },
    {
      "cell_type": "code",
      "metadata": {
        "id": "ONGE9n4_7r8j"
      },
      "source": [
        "test_data = scaled_data[training_data_len - 60: , :]\r\n",
        "x_test = []\r\n",
        "y_test = dataset[training_data_len:, :]\r\n",
        "\r\n",
        "for j in range(60, len(test_data)):\r\n",
        "    x_test.append(test_data[j-60:j, 0])\r\n",
        "\r\n",
        "x_test = np.array(x_test)\r\n",
        "\r\n",
        "x_test = np.reshape(x_test, (x_test.shape[0], x_test.shape[1], 1))"
      ],
      "execution_count": 177,
      "outputs": []
    },
    {
      "cell_type": "code",
      "metadata": {
        "id": "GTIsN88x8El7"
      },
      "source": [
        "predict = model.predict(x_test)\r\n",
        "predict = scaler.inverse_transform(predict)"
      ],
      "execution_count": 178,
      "outputs": []
    },
    {
      "cell_type": "code",
      "metadata": {
        "colab": {
          "base_uri": "https://localhost:8080/",
          "height": 624
        },
        "id": "2lq4NlE98dfX",
        "outputId": "fa8af61b-0ba4-450b-df8f-ba29c5930825"
      },
      "source": [
        "train = df[:training_data_len]\r\n",
        "val = df[training_data_len:]\r\n",
        "val['Predictions'] = predict\r\n",
        "\r\n",
        "plt.figure(figsize=(16,8))\r\n",
        "plt.title('LSTM Model Data')\r\n",
        "plt.xlabel('Date', fontsize=16)\r\n",
        "plt.ylabel('Open Price', fontsize=16)\r\n",
        "plt.plot(train['open'])\r\n",
        "plt.plot(val[['open', 'Predictions']])\r\n",
        "plt.legend(['Trained Dataset', 'Actual Value', 'Predictions'])\r\n",
        "plt.show()"
      ],
      "execution_count": 179,
      "outputs": [
        {
          "output_type": "stream",
          "text": [
            "/usr/local/lib/python3.7/dist-packages/ipykernel_launcher.py:3: SettingWithCopyWarning: \n",
            "A value is trying to be set on a copy of a slice from a DataFrame.\n",
            "Try using .loc[row_indexer,col_indexer] = value instead\n",
            "\n",
            "See the caveats in the documentation: https://pandas.pydata.org/pandas-docs/stable/user_guide/indexing.html#returning-a-view-versus-a-copy\n",
            "  This is separate from the ipykernel package so we can avoid doing imports until\n"
          ],
          "name": "stderr"
        },
        {
          "output_type": "display_data",
          "data": {
            "image/png": "[encoded data removed]",
            "text/plain": [
              "<Figure size 1152x576 with 1 Axes>"
            ]
          },
          "metadata": {
            "tags": [],
            "needs_background": "light"
          }
        }
      ]
    },
    {
      "cell_type": "code",
      "metadata": {
        "colab": {
          "base_uri": "https://localhost:8080/",
          "height": 406
        },
        "id": "zVKOKwhEEi1y",
        "outputId": "3f4bdfd6-7d51-4a72-f575-6e967af489bc"
      },
      "source": [
        "val"
      ],
      "execution_count": 180,
      "outputs": [
        {
          "output_type": "execute_result",
          "data": {
            "text/html": [
              "<div>\n",
              "<style scoped>\n",
              "    .dataframe tbody tr th:only-of-type {\n",
              "        vertical-align: middle;\n",
              "    }\n",
              "\n",
              "    .dataframe tbody tr th {\n",
              "        vertical-align: top;\n",
              "    }\n",
              "\n",
              "    .dataframe thead th {\n",
              "        text-align: right;\n",
              "    }\n",
              "</style>\n",
              "<table border=\"1\" class=\"dataframe\">\n",
              "  <thead>\n",
              "    <tr style=\"text-align: right;\">\n",
              "      <th></th>\n",
              "      <th>open</th>\n",
              "      <th>Predictions</th>\n",
              "    </tr>\n",
              "  </thead>\n",
              "  <tbody>\n",
              "    <tr>\n",
              "      <th>675609</th>\n",
              "      <td>117.809998</td>\n",
              "      <td>109.593704</td>\n",
              "    </tr>\n",
              "    <tr>\n",
              "      <th>676106</th>\n",
              "      <td>112.529999</td>\n",
              "      <td>109.354576</td>\n",
              "    </tr>\n",
              "    <tr>\n",
              "      <th>676603</th>\n",
              "      <td>116.040001</td>\n",
              "      <td>109.064011</td>\n",
              "    </tr>\n",
              "    <tr>\n",
              "      <th>677100</th>\n",
              "      <td>114.320000</td>\n",
              "      <td>108.822525</td>\n",
              "    </tr>\n",
              "    <tr>\n",
              "      <th>677597</th>\n",
              "      <td>116.040001</td>\n",
              "      <td>108.584824</td>\n",
              "    </tr>\n",
              "    <tr>\n",
              "      <th>...</th>\n",
              "      <td>...</td>\n",
              "      <td>...</td>\n",
              "    </tr>\n",
              "    <tr>\n",
              "      <th>848767</th>\n",
              "      <td>115.589996</td>\n",
              "      <td>105.739922</td>\n",
              "    </tr>\n",
              "    <tr>\n",
              "      <th>849267</th>\n",
              "      <td>116.519997</td>\n",
              "      <td>105.927246</td>\n",
              "    </tr>\n",
              "    <tr>\n",
              "      <th>849767</th>\n",
              "      <td>117.519997</td>\n",
              "      <td>106.107544</td>\n",
              "    </tr>\n",
              "    <tr>\n",
              "      <th>850267</th>\n",
              "      <td>116.449997</td>\n",
              "      <td>106.295738</td>\n",
              "    </tr>\n",
              "    <tr>\n",
              "      <th>850767</th>\n",
              "      <td>116.650002</td>\n",
              "      <td>106.461174</td>\n",
              "    </tr>\n",
              "  </tbody>\n",
              "</table>\n",
              "<p>352 rows × 2 columns</p>\n",
              "</div>"
            ],
            "text/plain": [
              "              open  Predictions\n",
              "675609  117.809998   109.593704\n",
              "676106  112.529999   109.354576\n",
              "676603  116.040001   109.064011\n",
              "677100  114.320000   108.822525\n",
              "677597  116.040001   108.584824\n",
              "...            ...          ...\n",
              "848767  115.589996   105.739922\n",
              "849267  116.519997   105.927246\n",
              "849767  117.519997   106.107544\n",
              "850267  116.449997   106.295738\n",
              "850767  116.650002   106.461174\n",
              "\n",
              "[352 rows x 2 columns]"
            ]
          },
          "metadata": {
            "tags": []
          },
          "execution_count": 180
        }
      ]
    },
    {
      "cell_type": "code",
      "metadata": {
        "colab": {
          "base_uri": "https://localhost:8080/",
          "height": 287
        },
        "id": "ZLu9aHnP8-zk",
        "outputId": "d4b87008-473d-4884-fdba-46492e447845"
      },
      "source": [
        "val.describe()"
      ],
      "execution_count": 181,
      "outputs": [
        {
          "output_type": "execute_result",
          "data": {
            "text/html": [
              "<div>\n",
              "<style scoped>\n",
              "    .dataframe tbody tr th:only-of-type {\n",
              "        vertical-align: middle;\n",
              "    }\n",
              "\n",
              "    .dataframe tbody tr th {\n",
              "        vertical-align: top;\n",
              "    }\n",
              "\n",
              "    .dataframe thead th {\n",
              "        text-align: right;\n",
              "    }\n",
              "</style>\n",
              "<table border=\"1\" class=\"dataframe\">\n",
              "  <thead>\n",
              "    <tr style=\"text-align: right;\">\n",
              "      <th></th>\n",
              "      <th>open</th>\n",
              "      <th>Predictions</th>\n",
              "    </tr>\n",
              "  </thead>\n",
              "  <tbody>\n",
              "    <tr>\n",
              "      <th>count</th>\n",
              "      <td>352.000000</td>\n",
              "      <td>352.000000</td>\n",
              "    </tr>\n",
              "    <tr>\n",
              "      <th>mean</th>\n",
              "      <td>107.135540</td>\n",
              "      <td>101.682182</td>\n",
              "    </tr>\n",
              "    <tr>\n",
              "      <th>std</th>\n",
              "      <td>7.994013</td>\n",
              "      <td>5.016899</td>\n",
              "    </tr>\n",
              "    <tr>\n",
              "      <th>min</th>\n",
              "      <td>90.000000</td>\n",
              "      <td>92.994164</td>\n",
              "    </tr>\n",
              "    <tr>\n",
              "      <th>25%</th>\n",
              "      <td>99.019997</td>\n",
              "      <td>96.473236</td>\n",
              "    </tr>\n",
              "    <tr>\n",
              "      <th>50%</th>\n",
              "      <td>108.820000</td>\n",
              "      <td>103.154499</td>\n",
              "    </tr>\n",
              "    <tr>\n",
              "      <th>75%</th>\n",
              "      <td>113.655001</td>\n",
              "      <td>105.671936</td>\n",
              "    </tr>\n",
              "    <tr>\n",
              "      <th>max</th>\n",
              "      <td>123.129997</td>\n",
              "      <td>109.593704</td>\n",
              "    </tr>\n",
              "  </tbody>\n",
              "</table>\n",
              "</div>"
            ],
            "text/plain": [
              "             open  Predictions\n",
              "count  352.000000   352.000000\n",
              "mean   107.135540   101.682182\n",
              "std      7.994013     5.016899\n",
              "min     90.000000    92.994164\n",
              "25%     99.019997    96.473236\n",
              "50%    108.820000   103.154499\n",
              "75%    113.655001   105.671936\n",
              "max    123.129997   109.593704"
            ]
          },
          "metadata": {
            "tags": []
          },
          "execution_count": 181
        }
      ]
    },
    {
      "cell_type": "code",
      "metadata": {
        "colab": {
          "base_uri": "https://localhost:8080/"
        },
        "id": "lkhlSZC79Cb0",
        "outputId": "6dd335e3-699f-4140-af8d-41d8f1cd74b9"
      },
      "source": [
        "x = val.open.mean()\r\n",
        "y = val.Predictions.mean()\r\n",
        "Accuracy = x/y*100\r\n",
        "print(\"The accuracy of the model is \" , Accuracy)"
      ],
      "execution_count": 182,
      "outputs": [
        {
          "output_type": "stream",
          "text": [
            "The accuracy of the model is  105.36313961228916\n"
          ],
          "name": "stdout"
        }
      ]
    }
  ]
}